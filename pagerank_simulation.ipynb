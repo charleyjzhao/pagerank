{
 "cells": [
  {
   "cell_type": "markdown",
   "metadata": {},
   "source": [
    "## PageRank Simulation\n",
    "### Charley Zhao"
   ]
  },
  {
   "cell_type": "markdown",
   "metadata": {},
   "source": [
    "Randomly select a page, p, to start with and call this the current page\n",
    "\n",
    "ii. Generate a random number, r, from [0,1). (a) If r is less than or equal to  then simulate a\n",
    "click by randomly selecting a page from amongst all the neighbors of the current page and\n",
    "make it the current page. (b) If the random number is greater than  then simulate a jump by\n",
    "randomly selecting from amongst all the pages in the graph and make it the current page\n",
    "\n",
    "iii. Repeat step ii walk_len times. Whichever page you are on at the end, increment a counter\n",
    "for that page\n",
    "To simulate PageRank itself, repeat the above 3 steps N times. Finally divide the counter associated with\n",
    "each page by N to determine the PageRank. Report the page rank of the various nodes in alphabetical\n",
    "order."
   ]
  },
  {
   "cell_type": "code",
   "execution_count": 17,
   "metadata": {},
   "outputs": [],
   "source": [
    "import random"
   ]
  },
  {
   "cell_type": "code",
   "execution_count": 18,
   "metadata": {},
   "outputs": [],
   "source": [
    "def read_graph(fname):\n",
    "    graph = dict()\n",
    "    with open(fname) as f:\n",
    "        for line in f:\n",
    "            curr, *neighbors = line.split()\n",
    "            graph[curr] = neighbors\n",
    "    return graph\n",
    "\n",
    "# which takes the name of a file with the incidence vector representation of\n",
    "# the graph and returns some python representation. You are free to choose whichever\n",
    "# representation for a graph you prefer (dictionary, list etc)."
   ]
  },
  {
   "cell_type": "code",
   "execution_count": 19,
   "metadata": {},
   "outputs": [
    {
     "data": {
      "text/plain": [
       "{'A': ['B', 'C'],\n",
       " 'B': ['C', 'D', 'E'],\n",
       " 'C': ['A'],\n",
       " 'D': ['C', 'E'],\n",
       " 'E': ['A']}"
      ]
     },
     "execution_count": 19,
     "metadata": {},
     "output_type": "execute_result"
    }
   ],
   "source": [
    "read_graph('graph-2.txt')"
   ]
  },
  {
   "cell_type": "code",
   "execution_count": 27,
   "metadata": {},
   "outputs": [],
   "source": [
    "def random_walk(graph, walk_len=1000, beta=0.85):\n",
    "    curr = random.choice(list(graph.keys()))\n",
    "    for i in range(walk_len):\n",
    "        r = random.random()\n",
    "        if r <= beta: \n",
    "            curr = random.choice(graph[curr])\n",
    "        else:\n",
    "            curr = random.choice(list(graph.keys()))\n",
    "    return curr\n",
    "    \n",
    "# which performs the random walk\n",
    "# described above in steps i—iii. random_walk should return the final node it lands on after\n",
    "# performing the random walk.\n",
    "\n",
    "\n",
    "# i. Randomly select a page, p, to start with and call this the current page\n",
    "\n",
    "# ii. Generate a random number, r, from [0,1). (a) If r is less than or equal to beta then simulate a\n",
    "# click by randomly selecting a page from amongst all the neighbors of the current page and\n",
    "# make it the current page. (b) If the random number is greater than beta then simulate a jump by\n",
    "# randomly selecting from amongst all the pages in the graph and make it the current page\n",
    "\n",
    "# iii. Repeat step ii walk_len times. Whichever page you are on at the end, increment a counter\n",
    "# for that page"
   ]
  },
  {
   "cell_type": "code",
   "execution_count": 90,
   "metadata": {},
   "outputs": [
    {
     "data": {
      "text/plain": [
       "'A'"
      ]
     },
     "execution_count": 90,
     "metadata": {},
     "output_type": "execute_result"
    }
   ],
   "source": [
    "graph = read_graph('graph-2.txt')\n",
    "random_walk(graph)"
   ]
  },
  {
   "cell_type": "code",
   "execution_count": 86,
   "metadata": {},
   "outputs": [],
   "source": [
    "def simulate_pagerank(fname, walk_len=1000, N=1000, beta=0.85):\n",
    "    random.seed(1)\n",
    "    graph = read_graph(fname)\n",
    "    counter = dict()\n",
    "    for k in graph.keys():\n",
    "        counter[k] = 0\n",
    "    for i in range(N):\n",
    "        node = random_walk(graph)\n",
    "        counter[node]+=1\n",
    "    for node in graph:\n",
    "        count_val = counter[node]\n",
    "        freq = count_val/N\n",
    "        print(str(node) + \" \" + str(freq))\n",
    "    \n",
    "    \n",
    "\n",
    "# is the main\n",
    "# driver routine that calls read_graph, and random_walk and calculates the relative frequency\n",
    "# at which the random walk process ends on a particular node. "
   ]
  },
  {
   "cell_type": "code",
   "execution_count": 87,
   "metadata": {},
   "outputs": [
    {
     "name": "stdout",
     "output_type": "stream",
     "text": [
      "A 0.379\n",
      "B 0.206\n",
      "C 0.37\n",
      "D 0.045\n"
     ]
    }
   ],
   "source": [
    "simulate_pagerank(\"graph-1.txt\", walk_len=1000, N=1000, beta=0.85)"
   ]
  },
  {
   "cell_type": "code",
   "execution_count": 88,
   "metadata": {},
   "outputs": [
    {
     "name": "stdout",
     "output_type": "stream",
     "text": [
      "A 0.362\n",
      "B 0.169\n",
      "C 0.27\n",
      "D 0.071\n",
      "E 0.128\n"
     ]
    }
   ],
   "source": [
    "simulate_pagerank(\"graph-2.txt\", walk_len=1000, N=1000, beta=0.85)"
   ]
  },
  {
   "cell_type": "code",
   "execution_count": 89,
   "metadata": {},
   "outputs": [
    {
     "name": "stdout",
     "output_type": "stream",
     "text": [
      "A 0.033\n",
      "B 0.387\n",
      "C 0.331\n",
      "D 0.037\n",
      "E 0.094\n",
      "F 0.042\n",
      "G 0.024\n",
      "H 0.01\n",
      "I 0.013\n",
      "J 0.016\n",
      "K 0.013\n"
     ]
    }
   ],
   "source": [
    "simulate_pagerank(\"wikipedia-example.txt\", walk_len=1000, N=1000, beta=0.85)"
   ]
  },
  {
   "cell_type": "code",
   "execution_count": null,
   "metadata": {},
   "outputs": [],
   "source": []
  }
 ],
 "metadata": {
  "kernelspec": {
   "display_name": "Python 3",
   "language": "python",
   "name": "python3"
  },
  "language_info": {
   "codemirror_mode": {
    "name": "ipython",
    "version": 3
   },
   "file_extension": ".py",
   "mimetype": "text/x-python",
   "name": "python",
   "nbconvert_exporter": "python",
   "pygments_lexer": "ipython3",
   "version": "3.7.6"
  }
 },
 "nbformat": 4,
 "nbformat_minor": 4
}
