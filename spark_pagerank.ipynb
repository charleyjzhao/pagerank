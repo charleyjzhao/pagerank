{
 "cells": [
  {
   "cell_type": "markdown",
   "metadata": {},
   "source": [
    "Below is the outline of pyspark code for calculating the pagerank of a graph expressed in the edge vector representation.  For this past of the assignment:\n",
    "\n",
    "1. Complete the code below\n",
    "2. Write doc string comments for all functions documenting what they do\n",
    "3. Test your code on other graphs we've worked in previous assignments\n",
    "\n",
    "I recommend reviewing the (i) the Excel spread sheet calculation we did for simulating the page rank calculation (ii) and slides on pagerank.  Ensure you under the algorithm well before starting on this exercise. \n",
    "\n",
    "Rather than just stating \"Write PySpark code to calculate PageRank\" I've provided some helper functions and sample output along the way to provide guidance.  To faciliate grading, do stay with these functions."
   ]
  },
  {
   "cell_type": "code",
   "execution_count": 1,
   "metadata": {},
   "outputs": [],
   "source": [
    "import findspark\n",
    "findspark.init()\n",
    "from pyspark import SparkContext\n",
    "sc = SparkContext() "
   ]
  },
  {
   "cell_type": "markdown",
   "metadata": {},
   "source": [
    "# page rank"
   ]
  },
  {
   "cell_type": "code",
   "execution_count": 289,
   "metadata": {},
   "outputs": [],
   "source": [
    "def parse_line(line):\n",
    "    return line.split()"
   ]
  },
  {
   "cell_type": "code",
   "execution_count": 290,
   "metadata": {},
   "outputs": [
    {
     "data": {
      "text/plain": [
       "['A', 'B', 'C']"
      ]
     },
     "execution_count": 290,
     "metadata": {},
     "output_type": "execute_result"
    }
   ],
   "source": [
    "parse_line(\"A B C\")"
   ]
  },
  {
   "cell_type": "code",
   "execution_count": 8,
   "metadata": {},
   "outputs": [],
   "source": [
    "def read_graph(fname):\n",
    "    return sc.textFile(fname)"
   ]
  },
  {
   "cell_type": "code",
   "execution_count": 13,
   "metadata": {},
   "outputs": [
    {
     "data": {
      "text/plain": [
       "['A B C', 'B C', 'C A', 'D C']"
      ]
     },
     "execution_count": 13,
     "metadata": {},
     "output_type": "execute_result"
    }
   ],
   "source": [
    "read_graph('graph-1.txt').collect()"
   ]
  },
  {
   "cell_type": "code",
   "execution_count": 40,
   "metadata": {
    "scrolled": true
   },
   "outputs": [],
   "source": [
    "def init_ranks(graph):\n",
    "    letters = graph.groupBy(lambda x: x[0])\n",
    "    num_letters = letters.count()\n",
    "    return letters.map(lambda x : (x[0], 1/num_letters)).sortByKey(ascending=True)"
   ]
  },
  {
   "cell_type": "code",
   "execution_count": 101,
   "metadata": {},
   "outputs": [
    {
     "name": "stdout",
     "output_type": "stream",
     "text": [
      "[('A', 0.25), ('B', 0.25), ('C', 0.25), ('D', 0.25)]\n"
     ]
    }
   ],
   "source": [
    "g = read_graph('graph-1.txt')\n",
    "#test = g.map(lambda x : isinstance(x, str))\n",
    "#print(test.collect())\n",
    "print(init_ranks(g).collect())"
   ]
  },
  {
   "cell_type": "code",
   "execution_count": 278,
   "metadata": {},
   "outputs": [],
   "source": [
    "def calc_partials(line_lst):\n",
    "    _, *neighbors = line_lst\n",
    "    print(neighbors)\n",
    "    neighbors_lst = []\n",
    "    for neigh in neighbors:\n",
    "        neighbors_lst.append(1/len(neighbors))\n",
    "    return neighbors_lst"
   ]
  },
  {
   "cell_type": "code",
   "execution_count": 279,
   "metadata": {},
   "outputs": [
    {
     "name": "stdout",
     "output_type": "stream",
     "text": [
      "['B', 'C']\n",
      "[0.5, 0.5]\n"
     ]
    }
   ],
   "source": [
    "print(calc_partials(['A','B','C']))"
   ]
  },
  {
   "cell_type": "code",
   "execution_count": 420,
   "metadata": {},
   "outputs": [],
   "source": [
    "def calc_contribs(ranks, graph):\n",
    "    # replace initial ranks with 0\n",
    "    zero_ranks = ranks.map(lambda x : (x[0], 0))\n",
    "    \n",
    "    init_rank = 1/ranks.count()\n",
    "    #print(\"ranks\")\n",
    "    #print(ranks.collect())\n",
    "    line = graph.map(lambda x : parse_line(x))\n",
    "    neigh_partials = line.flatMap(lambda x : calc_partials(x))\n",
    "    #print(\"neigh_partials\")\n",
    "    #print(neigh_partials.collect())\n",
    "    neighs = graph.flatMap(lambda x : x[1:]).filter(lambda x : x != ' ')\n",
    "    \n",
    "    \n",
    "    neigh_ranks = neigh_partials.map(lambda x : init_rank)\n",
    "    #print(\"neigh_ranks\")\n",
    "    #print(neigh_ranks.collect())\n",
    "    \n",
    "    \n",
    "    adj_ranks = neigh_ranks.zip(neigh_partials)\n",
    "    calc_adj_ranks = adj_ranks.map(lambda x : x[0]*x[1])\n",
    "    tmp = neighs.zip(calc_adj_ranks)\n",
    "    \n",
    "\n",
    "    \n",
    "    \n",
    "    final = tmp.union(zero_ranks)\n",
    "    return final"
   ]
  },
  {
   "cell_type": "code",
   "execution_count": 421,
   "metadata": {},
   "outputs": [
    {
     "data": {
      "text/plain": [
       "[('B', 0.125),\n",
       " ('C', 0.125),\n",
       " ('C', 0.25),\n",
       " ('A', 0.25),\n",
       " ('C', 0.25),\n",
       " ('A', 0),\n",
       " ('B', 0),\n",
       " ('C', 0),\n",
       " ('D', 0)]"
      ]
     },
     "execution_count": 421,
     "metadata": {},
     "output_type": "execute_result"
    }
   ],
   "source": [
    "g = read_graph('graph-1.txt')\n",
    "r = init_ranks(g)\n",
    "calc_contribs(r, g).collect()"
   ]
  },
  {
   "cell_type": "code",
   "execution_count": 422,
   "metadata": {},
   "outputs": [],
   "source": [
    "g = read_graph('graph-1.txt')\n",
    "r = init_ranks(g)"
   ]
  },
  {
   "cell_type": "markdown",
   "metadata": {},
   "source": [
    "Note that when calculating the contributions we have A, B, C, D also paired with 0?  Why?"
   ]
  },
  {
   "cell_type": "code",
   "execution_count": 423,
   "metadata": {},
   "outputs": [
    {
     "data": {
      "text/plain": [
       "[('B', 0.125),\n",
       " ('C', 0.125),\n",
       " ('C', 0.25),\n",
       " ('A', 0.25),\n",
       " ('C', 0.25),\n",
       " ('A', 0),\n",
       " ('B', 0),\n",
       " ('C', 0),\n",
       " ('D', 0)]"
      ]
     },
     "execution_count": 423,
     "metadata": {},
     "output_type": "execute_result"
    }
   ],
   "source": [
    "c1 = calc_contribs(r, g)\n",
    "c1.collect()"
   ]
  },
  {
   "cell_type": "code",
   "execution_count": 424,
   "metadata": {},
   "outputs": [],
   "source": [
    "def calc_ranks(contribs, num_nodes, beta):\n",
    "    groups = contribs.groupByKey()\n",
    "    #print(groups.collect())\n",
    "    \n",
    "    # just to visually confirm what's in the list, don't use for calculations\n",
    "    groups_viewable = groups.map(lambda x : (x[0], list(x[1]))) \n",
    "    \n",
    "    sum_groups = groups.map(lambda x : (x[0], sum(x[1])))\n",
    "    #print(sum_groups.collect())\n",
    "    calc = sum_groups.map(lambda x : (x[0], (1-beta)/num_nodes + beta*x[1]))\n",
    "    return calc"
   ]
  },
  {
   "cell_type": "code",
   "execution_count": 427,
   "metadata": {},
   "outputs": [
    {
     "name": "stdout",
     "output_type": "stream",
     "text": [
      "[('C', 0.56875), ('A', 0.25), ('B', 0.14375), ('D', 0.037500000000000006)]\n",
      "[('B', 0.125), ('C', 0.125), ('C', 0.25), ('A', 0.25), ('C', 0.25), ('C', 0), ('A', 0), ('B', 0), ('D', 0)]\n"
     ]
    }
   ],
   "source": [
    "calc_ranks(c1, num_nodes=g.count(), beta=0.85).collect()\n",
    "new = calc_ranks(c1, num_nodes=g.count(), beta=0.85)\n",
    "print(new.collect())\n",
    "test = calc_contribs(new,g)\n",
    "print(test.collect())"
   ]
  },
  {
   "cell_type": "code",
   "execution_count": 430,
   "metadata": {},
   "outputs": [],
   "source": [
    "def pagerank_helper(rank,graph,beta,n):\n",
    "    num_nodes = graph.count()\n",
    "    if n == 0:\n",
    "        return rank\n",
    "    else:\n",
    "        c2 = calc_contribs(rank, graph)\n",
    "        new_rank = calc_ranks(c2, num_nodes, beta)\n",
    "        print(new_rank.collect())\n",
    "        n-=1\n",
    "        return pagerank_helper(new_rank,graph,beta,n)\n",
    "    \n",
    "\n",
    "def pagerank(fname, beta=0.85, n=10):\n",
    "    g = read_graph(fname)\n",
    "    #print(g.collect())\n",
    "    r = init_ranks(g)\n",
    "    #print(r.collect())\n",
    "    return pagerank_helper(r,g,beta,n)"
   ]
  },
  {
   "cell_type": "code",
   "execution_count": 431,
   "metadata": {},
   "outputs": [
    {
     "name": "stdout",
     "output_type": "stream",
     "text": [
      "[('C', 0.56875), ('A', 0.25), ('B', 0.14375), ('D', 0.037500000000000006)]\n",
      "[('C', 0.56875), ('D', 0.037500000000000006), ('B', 0.14375), ('A', 0.25)]\n",
      "[('A', 0.25), ('D', 0.037500000000000006), ('C', 0.56875), ('B', 0.14375)]\n",
      "[('A', 0.25), ('C', 0.56875), ('B', 0.14375), ('D', 0.037500000000000006)]\n",
      "[('C', 0.56875), ('D', 0.037500000000000006), ('A', 0.25), ('B', 0.14375)]\n",
      "[('D', 0.037500000000000006), ('C', 0.56875), ('A', 0.25), ('B', 0.14375)]\n",
      "[('B', 0.14375), ('A', 0.25), ('D', 0.037500000000000006), ('C', 0.56875)]\n",
      "[('D', 0.037500000000000006), ('B', 0.14375), ('C', 0.56875), ('A', 0.25)]\n",
      "[('A', 0.25), ('C', 0.56875), ('B', 0.14375), ('D', 0.037500000000000006)]\n",
      "[('A', 0.25), ('B', 0.14375), ('C', 0.56875), ('D', 0.037500000000000006)]\n"
     ]
    },
    {
     "data": {
      "text/plain": [
       "[('A', 0.25), ('B', 0.14375), ('C', 0.56875), ('D', 0.037500000000000006)]"
      ]
     },
     "execution_count": 431,
     "metadata": {},
     "output_type": "execute_result"
    }
   ],
   "source": [
    "pagerank('graph-1.txt', beta=0.85, n=10).collect()"
   ]
  },
  {
   "cell_type": "raw",
   "metadata": {},
   "source": [
    "[('A', 0.375054382302053),\n",
    " ('B', 0.1949370588413849),\n",
    " ('C', 0.3925085588565621),\n",
    " ('D', 0.037500000000000006)]"
   ]
  },
  {
   "cell_type": "code",
   "execution_count": null,
   "metadata": {},
   "outputs": [],
   "source": []
  }
 ],
 "metadata": {
  "kernelspec": {
   "display_name": "Python 3",
   "language": "python",
   "name": "python3"
  },
  "language_info": {
   "codemirror_mode": {
    "name": "ipython",
    "version": 3
   },
   "file_extension": ".py",
   "mimetype": "text/x-python",
   "name": "python",
   "nbconvert_exporter": "python",
   "pygments_lexer": "ipython3",
   "version": "3.7.6"
  }
 },
 "nbformat": 4,
 "nbformat_minor": 4
}
